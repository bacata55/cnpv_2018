{
 "nbformat": 4,
 "nbformat_minor": 2,
 "metadata": {
  "language_info": {
   "name": "python",
   "codemirror_mode": {
    "name": "ipython",
    "version": 3
   },
   "version": "3.8.1-final"
  },
  "orig_nbformat": 2,
  "file_extension": ".py",
  "mimetype": "text/x-python",
  "name": "python",
  "npconvert_exporter": "python",
  "pygments_lexer": "ipython3",
  "version": 3,
  "kernelspec": {
   "name": "python38164bita643dc592aaa401fb01c513d7ffe79a9",
   "display_name": "Python 3.8.1 64-bit"
  }
 },
 "cells": [
  {
   "cell_type": "markdown",
   "execution_count": null,
   "metadata": {},
   "outputs": [],
   "source": [
    "## Importando las librerias necesarias"
   ]
  },
  {
   "source": [
    "from pathlib import Path\n",
    "import pandas as pd\n",
    "import cnpv"
   ],
   "cell_type": "code",
   "outputs": [],
   "metadata": {},
   "execution_count": 1
  },
  {
   "cell_type": "markdown",
   "execution_count": null,
   "metadata": {},
   "outputs": [],
   "source": [
    "## Definiendo los directorios con la información"
   ]
  },
  {
   "source": [
    "data_folder = Path.cwd().parent / \"data\"\n",
    "dict_path = Path.cwd().parent / \"dict/Diccionario_Datos_CNPV_2018.zip\""
   ],
   "cell_type": "code",
   "outputs": [],
   "metadata": {},
   "execution_count": 2
  },
  {
   "cell_type": "markdown",
   "execution_count": null,
   "metadata": {},
   "outputs": [],
   "source": [
    "## Creando el diccionario que contiene los dataframes del censo"
   ]
  },
  {
   "source": [
    "dfs = cnpv.CreateProcessedDataframe(data_folder, dict_path)"
   ],
   "cell_type": "code",
   "outputs": [],
   "metadata": {},
   "execution_count": 3
  },
  {
   "cell_type": "markdown",
   "execution_count": null,
   "metadata": {},
   "outputs": [],
   "source": [
    "## Mostrar el encabezado del DataFrame de viviendas"
   ]
  },
  {
   "source": [
    "dfs[\"viviendas\"].head()"
   ],
   "cell_type": "code",
   "outputs": [
    {
     "output_type": "execute_result",
     "data": {
      "text/plain": "  TIPO_REG U_DPTO U_MPIO UA_CLASE U_EDIFICA COD_ENCUESTAS U_VIVIENDA  \\\n0        1     97    001        1         1       7888115          2   \n1        1     97    001        1         1       7888128          1   \n2        1     97    001        1         1       7888136          7   \n3        1     97    001        1         1       7888140          3   \n4        1     97    001        1         1       7888261          6   \n\n  UVA_USO_UNIDAD V_TIPO_VIV                      V_CON_OCUP  ... VB_ACU  \\\n0       Vivienda       Casa  Ocupada con personas presentes  ...     Si   \n1       Vivienda       Casa                      Desocupada  ...    NaN   \n2       Vivienda       Casa  Ocupada con personas presentes  ...     No   \n3       Vivienda       Casa  Ocupada con personas presentes  ...     No   \n4       Vivienda       Casa                      Desocupada  ...    NaN   \n\n  VC_ALC VD_GAS VE_RECBAS VE1_QSEM VF_INTERNET  \\\n0     Si     No        Si  2 Veces          No   \n1    NaN    NaN       NaN      NaN         NaN   \n2     No     No        Si  2 Veces          No   \n3     No     No        No      NaN          No   \n4    NaN    NaN       NaN      NaN         NaN   \n\n                                V_TIPO_SERSA L_TIPO_INST L_EXISTEHOG  \\\n0        Inodoro conectado al alcantarillado         NaN         NaN   \n1                                        NaN         NaN         NaN   \n2  esta vivienda No tiene servicio sanitario         NaN         NaN   \n3                       Inodoro sin conexion         NaN         NaN   \n4                                        NaN         NaN         NaN   \n\n  L_TOT_PERL  \n0        NaN  \n1        NaN  \n2        NaN  \n3        NaN  \n4        NaN  \n\n[5 rows x 25 columns]",
      "text/html": "<div>\n<style scoped>\n    .dataframe tbody tr th:only-of-type {\n        vertical-align: middle;\n    }\n\n    .dataframe tbody tr th {\n        vertical-align: top;\n    }\n\n    .dataframe thead th {\n        text-align: right;\n    }\n</style>\n<table border=\"1\" class=\"dataframe\">\n  <thead>\n    <tr style=\"text-align: right;\">\n      <th></th>\n      <th>TIPO_REG</th>\n      <th>U_DPTO</th>\n      <th>U_MPIO</th>\n      <th>UA_CLASE</th>\n      <th>U_EDIFICA</th>\n      <th>COD_ENCUESTAS</th>\n      <th>U_VIVIENDA</th>\n      <th>UVA_USO_UNIDAD</th>\n      <th>V_TIPO_VIV</th>\n      <th>V_CON_OCUP</th>\n      <th>...</th>\n      <th>VB_ACU</th>\n      <th>VC_ALC</th>\n      <th>VD_GAS</th>\n      <th>VE_RECBAS</th>\n      <th>VE1_QSEM</th>\n      <th>VF_INTERNET</th>\n      <th>V_TIPO_SERSA</th>\n      <th>L_TIPO_INST</th>\n      <th>L_EXISTEHOG</th>\n      <th>L_TOT_PERL</th>\n    </tr>\n  </thead>\n  <tbody>\n    <tr>\n      <th>0</th>\n      <td>1</td>\n      <td>97</td>\n      <td>001</td>\n      <td>1</td>\n      <td>1</td>\n      <td>7888115</td>\n      <td>2</td>\n      <td>Vivienda</td>\n      <td>Casa</td>\n      <td>Ocupada con personas presentes</td>\n      <td>...</td>\n      <td>Si</td>\n      <td>Si</td>\n      <td>No</td>\n      <td>Si</td>\n      <td>2 Veces</td>\n      <td>No</td>\n      <td>Inodoro conectado al alcantarillado</td>\n      <td>NaN</td>\n      <td>NaN</td>\n      <td>NaN</td>\n    </tr>\n    <tr>\n      <th>1</th>\n      <td>1</td>\n      <td>97</td>\n      <td>001</td>\n      <td>1</td>\n      <td>1</td>\n      <td>7888128</td>\n      <td>1</td>\n      <td>Vivienda</td>\n      <td>Casa</td>\n      <td>Desocupada</td>\n      <td>...</td>\n      <td>NaN</td>\n      <td>NaN</td>\n      <td>NaN</td>\n      <td>NaN</td>\n      <td>NaN</td>\n      <td>NaN</td>\n      <td>NaN</td>\n      <td>NaN</td>\n      <td>NaN</td>\n      <td>NaN</td>\n    </tr>\n    <tr>\n      <th>2</th>\n      <td>1</td>\n      <td>97</td>\n      <td>001</td>\n      <td>1</td>\n      <td>1</td>\n      <td>7888136</td>\n      <td>7</td>\n      <td>Vivienda</td>\n      <td>Casa</td>\n      <td>Ocupada con personas presentes</td>\n      <td>...</td>\n      <td>No</td>\n      <td>No</td>\n      <td>No</td>\n      <td>Si</td>\n      <td>2 Veces</td>\n      <td>No</td>\n      <td>esta vivienda No tiene servicio sanitario</td>\n      <td>NaN</td>\n      <td>NaN</td>\n      <td>NaN</td>\n    </tr>\n    <tr>\n      <th>3</th>\n      <td>1</td>\n      <td>97</td>\n      <td>001</td>\n      <td>1</td>\n      <td>1</td>\n      <td>7888140</td>\n      <td>3</td>\n      <td>Vivienda</td>\n      <td>Casa</td>\n      <td>Ocupada con personas presentes</td>\n      <td>...</td>\n      <td>No</td>\n      <td>No</td>\n      <td>No</td>\n      <td>No</td>\n      <td>NaN</td>\n      <td>No</td>\n      <td>Inodoro sin conexion</td>\n      <td>NaN</td>\n      <td>NaN</td>\n      <td>NaN</td>\n    </tr>\n    <tr>\n      <th>4</th>\n      <td>1</td>\n      <td>97</td>\n      <td>001</td>\n      <td>1</td>\n      <td>1</td>\n      <td>7888261</td>\n      <td>6</td>\n      <td>Vivienda</td>\n      <td>Casa</td>\n      <td>Desocupada</td>\n      <td>...</td>\n      <td>NaN</td>\n      <td>NaN</td>\n      <td>NaN</td>\n      <td>NaN</td>\n      <td>NaN</td>\n      <td>NaN</td>\n      <td>NaN</td>\n      <td>NaN</td>\n      <td>NaN</td>\n      <td>NaN</td>\n    </tr>\n  </tbody>\n</table>\n<p>5 rows × 25 columns</p>\n</div>"
     },
     "metadata": {},
     "execution_count": 4
    }
   ],
   "metadata": {},
   "execution_count": 4
  },
  {
   "cell_type": "markdown",
   "execution_count": null,
   "metadata": {},
   "outputs": [],
   "source": [
    "## Mostrar información para la variable del tipo de vivienda"
   ]
  },
  {
   "source": [
    "dfs[\"viviendas\"][\"V_TIPO_VIV\"].value_counts()"
   ],
   "cell_type": "code",
   "outputs": [
    {
     "output_type": "execute_result",
     "data": {
      "text/plain": "Casa                                                                          474369\nApartamento                                                                    88505\nTipo cuarto                                                                    39250\nVivienda tradicional Indigena                                                  12168\nOtro (contenedor, carpa, embarcacion, vagon, cueva, refugio natural, etc.)      1636\nVivienda tradicional Etnica (Afrocolombiana, Isleña, Rrom)                      1576\nName: V_TIPO_VIV, dtype: int64"
     },
     "metadata": {},
     "execution_count": 5
    }
   ],
   "metadata": {},
   "execution_count": 5
  },
  {
   "cell_type": "code",
   "execution_count": null,
   "metadata": {},
   "outputs": [],
   "source": []
  }
 ]
}